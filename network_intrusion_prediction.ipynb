{
 "cells": [
  {
   "cell_type": "markdown",
   "metadata": {},
   "source": [
    "## Problem Statement"
   ]
  },
  {
   "cell_type": "markdown",
   "metadata": {},
   "source": [
    "Modern computer networks and their connected applications have reached unprecedented growth with implementations  like  the  internet  of  things,  smart  homes,  and  software-defined  networks.  However, this  has  also  increased  the  potential  for  network intrusions,  which  are  a  continuous  threat  to  network infrastructures as they attempt to  compromise the major principles of computing systems: availability, authority,  confidentiality,  and  integrity.    These  threats  are  difficult  to  detect  unaided,  as  they  display indistinguishable  network  traffic  patterns  as  normal  functionality.    To  provide  enhanced  protection against  intrusions,  the  usage  of  machine  learning  for  NIDS  has  gained  traction  in  the  last  decade  as various  open-sourced  datasets  have  been  proposedand  established  by  multiple  research  groups globally."
   ]
  },
  {
   "cell_type": "code",
   "execution_count": 2,
   "metadata": {},
   "outputs": [],
   "source": [
    "import pandas as pd\n",
    "import numpy as np\n",
    "\n",
    "# Visualisation libraries\n",
    "import seaborn as sns\n",
    "import plotly.graph_objects as go\n",
    "import plotly.express as px\n",
    "import matplotlib.pyplot as plt\n",
    "plt.style.use(\"fivethirtyeight\")\n",
    "\n",
    "# For Garbage collection\n",
    "import gc\n",
    "\n",
    "# For hyperparam tuning\n",
    "from sklearn.model_selection import GridSearchCV\n",
    "\n",
    "# Data preprocessing\n",
    "from sklearn.feature_selection import VarianceThreshold\n",
    "from sklearn.model_selection import train_test_split\n",
    "\n",
    "# Machine Learning models\n",
    "from sklearn.linear_model import LogisticRegression\n",
    "from sklearn.svm import SVC\n",
    "from sklearn.tree import DecisionTreeClassifier\n",
    "from sklearn.ensemble import RandomForestClassifier\n",
    "import xgboost as xgb\n",
    "from sklearn.neighbors import KNeighborsClassifier\n",
    "\n",
    "# Ignore warnings\n",
    "import warnings\n",
    "warnings.filterwarnings(\"ignore\")\n",
    "\n",
    "# Classification report\n",
    "from sklearn.metrics import classification_report\n",
    "\n",
    "# Tensorflow and Keras\n",
    "from keras.models import Sequential\n",
    "from keras.layers import Dense\n",
    "#For early stopping\n",
    "from keras.callbacks import EarlyStopping, ModelCheckpoint"
   ]
  },
  {
   "cell_type": "code",
   "execution_count": 3,
   "metadata": {},
   "outputs": [
    {
     "data": {
      "text/html": [
       "<div>\n",
       "<style scoped>\n",
       "    .dataframe tbody tr th:only-of-type {\n",
       "        vertical-align: middle;\n",
       "    }\n",
       "\n",
       "    .dataframe tbody tr th {\n",
       "        vertical-align: top;\n",
       "    }\n",
       "\n",
       "    .dataframe thead th {\n",
       "        text-align: right;\n",
       "    }\n",
       "</style>\n",
       "<table border=\"1\" class=\"dataframe\">\n",
       "  <thead>\n",
       "    <tr style=\"text-align: right;\">\n",
       "      <th></th>\n",
       "      <th>Port Number</th>\n",
       "      <th>Received Packets</th>\n",
       "      <th>Received Bytes</th>\n",
       "      <th>Sent Bytes</th>\n",
       "      <th>Sent Packets</th>\n",
       "      <th>Port alive Duration (S)</th>\n",
       "      <th>Packets Rx Dropped</th>\n",
       "      <th>Packets Tx Dropped</th>\n",
       "      <th>Packets Rx Errors</th>\n",
       "      <th>Packets Tx Errors</th>\n",
       "      <th>...</th>\n",
       "      <th>Unknown Load/Rate</th>\n",
       "      <th>Unknown Load/Latest</th>\n",
       "      <th>Latest bytes counter</th>\n",
       "      <th>is_valid</th>\n",
       "      <th>Table ID</th>\n",
       "      <th>Active Flow Entries</th>\n",
       "      <th>Packets Looked Up</th>\n",
       "      <th>Packets Matched</th>\n",
       "      <th>Max Size</th>\n",
       "      <th>Label</th>\n",
       "    </tr>\n",
       "  </thead>\n",
       "  <tbody>\n",
       "    <tr>\n",
       "      <th>0</th>\n",
       "      <td>4</td>\n",
       "      <td>305111</td>\n",
       "      <td>25506841</td>\n",
       "      <td>100234870</td>\n",
       "      <td>284579</td>\n",
       "      <td>1657</td>\n",
       "      <td>0</td>\n",
       "      <td>0</td>\n",
       "      <td>0</td>\n",
       "      <td>0</td>\n",
       "      <td>...</td>\n",
       "      <td>0</td>\n",
       "      <td>0</td>\n",
       "      <td>0</td>\n",
       "      <td>1</td>\n",
       "      <td>0</td>\n",
       "      <td>6</td>\n",
       "      <td>992868</td>\n",
       "      <td>992744</td>\n",
       "      <td>-1</td>\n",
       "      <td>0</td>\n",
       "    </tr>\n",
       "    <tr>\n",
       "      <th>1</th>\n",
       "      <td>2</td>\n",
       "      <td>209</td>\n",
       "      <td>20671</td>\n",
       "      <td>6316631</td>\n",
       "      <td>274</td>\n",
       "      <td>96</td>\n",
       "      <td>0</td>\n",
       "      <td>0</td>\n",
       "      <td>0</td>\n",
       "      <td>0</td>\n",
       "      <td>...</td>\n",
       "      <td>183877</td>\n",
       "      <td>6303353</td>\n",
       "      <td>183877</td>\n",
       "      <td>1</td>\n",
       "      <td>0</td>\n",
       "      <td>8</td>\n",
       "      <td>90551</td>\n",
       "      <td>90494</td>\n",
       "      <td>-1</td>\n",
       "      <td>3</td>\n",
       "    </tr>\n",
       "    <tr>\n",
       "      <th>2</th>\n",
       "      <td>4</td>\n",
       "      <td>150</td>\n",
       "      <td>19774</td>\n",
       "      <td>6475473</td>\n",
       "      <td>3054</td>\n",
       "      <td>166</td>\n",
       "      <td>0</td>\n",
       "      <td>0</td>\n",
       "      <td>0</td>\n",
       "      <td>0</td>\n",
       "      <td>...</td>\n",
       "      <td>502</td>\n",
       "      <td>6439888</td>\n",
       "      <td>502</td>\n",
       "      <td>1</td>\n",
       "      <td>0</td>\n",
       "      <td>6</td>\n",
       "      <td>7516</td>\n",
       "      <td>7418</td>\n",
       "      <td>-1</td>\n",
       "      <td>2</td>\n",
       "    </tr>\n",
       "    <tr>\n",
       "      <th>3</th>\n",
       "      <td>1</td>\n",
       "      <td>4699</td>\n",
       "      <td>100986365</td>\n",
       "      <td>124574097</td>\n",
       "      <td>413351</td>\n",
       "      <td>2267</td>\n",
       "      <td>0</td>\n",
       "      <td>0</td>\n",
       "      <td>0</td>\n",
       "      <td>0</td>\n",
       "      <td>...</td>\n",
       "      <td>0</td>\n",
       "      <td>0</td>\n",
       "      <td>0</td>\n",
       "      <td>1</td>\n",
       "      <td>0</td>\n",
       "      <td>8</td>\n",
       "      <td>664849</td>\n",
       "      <td>664714</td>\n",
       "      <td>-1</td>\n",
       "      <td>0</td>\n",
       "    </tr>\n",
       "    <tr>\n",
       "      <th>4</th>\n",
       "      <td>3</td>\n",
       "      <td>990</td>\n",
       "      <td>104058</td>\n",
       "      <td>88896</td>\n",
       "      <td>778</td>\n",
       "      <td>792</td>\n",
       "      <td>0</td>\n",
       "      <td>0</td>\n",
       "      <td>0</td>\n",
       "      <td>0</td>\n",
       "      <td>...</td>\n",
       "      <td>715</td>\n",
       "      <td>7152</td>\n",
       "      <td>715</td>\n",
       "      <td>1</td>\n",
       "      <td>0</td>\n",
       "      <td>5</td>\n",
       "      <td>4328</td>\n",
       "      <td>4201</td>\n",
       "      <td>-1</td>\n",
       "      <td>1</td>\n",
       "    </tr>\n",
       "  </tbody>\n",
       "</table>\n",
       "<p>5 rows × 32 columns</p>\n",
       "</div>"
      ],
      "text/plain": [
       "   Port Number  Received Packets  Received Bytes  Sent Bytes  Sent Packets  \\\n",
       "0            4            305111        25506841   100234870        284579   \n",
       "1            2               209           20671     6316631           274   \n",
       "2            4               150           19774     6475473          3054   \n",
       "3            1              4699       100986365   124574097        413351   \n",
       "4            3               990          104058       88896           778   \n",
       "\n",
       "   Port alive Duration (S)  Packets Rx Dropped  Packets Tx Dropped  \\\n",
       "0                     1657                   0                   0   \n",
       "1                       96                   0                   0   \n",
       "2                      166                   0                   0   \n",
       "3                     2267                   0                   0   \n",
       "4                      792                   0                   0   \n",
       "\n",
       "   Packets Rx Errors  Packets Tx Errors  ...  Unknown Load/Rate  \\\n",
       "0                  0                  0  ...                  0   \n",
       "1                  0                  0  ...             183877   \n",
       "2                  0                  0  ...                502   \n",
       "3                  0                  0  ...                  0   \n",
       "4                  0                  0  ...                715   \n",
       "\n",
       "   Unknown Load/Latest  Latest bytes counter  is_valid  Table ID  \\\n",
       "0                    0                     0         1         0   \n",
       "1              6303353                183877         1         0   \n",
       "2              6439888                   502         1         0   \n",
       "3                    0                     0         1         0   \n",
       "4                 7152                   715         1         0   \n",
       "\n",
       "   Active Flow Entries  Packets Looked Up  Packets Matched  Max Size  Label  \n",
       "0                    6             992868           992744        -1      0  \n",
       "1                    8              90551            90494        -1      3  \n",
       "2                    6               7516             7418        -1      2  \n",
       "3                    8             664849           664714        -1      0  \n",
       "4                    5               4328             4201        -1      1  \n",
       "\n",
       "[5 rows x 32 columns]"
      ]
     },
     "execution_count": 3,
     "metadata": {},
     "output_type": "execute_result"
    }
   ],
   "source": [
    "# Reading the input\n",
    "\n",
    "input_df = pd.read_csv(\"train_dataset.csv\")\n",
    "input_df.head()"
   ]
  },
  {
   "cell_type": "code",
   "execution_count": 4,
   "metadata": {},
   "outputs": [],
   "source": [
    "#Reading the test dataset\n",
    "X_test = pd.read_csv(\"test_dataset.csv\")"
   ]
  },
  {
   "cell_type": "markdown",
   "metadata": {},
   "source": [
    "## Exploratory Data Analysis"
   ]
  },
  {
   "cell_type": "code",
   "execution_count": 4,
   "metadata": {},
   "outputs": [
    {
     "data": {
      "text/plain": [
       "(4998, 32)"
      ]
     },
     "execution_count": 4,
     "metadata": {},
     "output_type": "execute_result"
    }
   ],
   "source": [
    "input_df.shape"
   ]
  },
  {
   "cell_type": "code",
   "execution_count": 5,
   "metadata": {},
   "outputs": [
    {
     "data": {
      "text/plain": [
       "Index(['Port Number', 'Received Packets', 'Received Bytes', 'Sent Bytes',\n",
       "       'Sent Packets', 'Port alive Duration (S)', 'Packets Rx Dropped',\n",
       "       'Packets Tx Dropped', 'Packets Rx Errors', 'Packets Tx Errors',\n",
       "       'Delta Received Packets', 'Delta Received Bytes', 'Delta Sent Bytes',\n",
       "       'Delta Sent Packets', 'Delta Port alive Duration (S)',\n",
       "       'Delta Packets Rx Dropped', ' Delta Packets Tx Dropped',\n",
       "       'Delta Packets Rx Errors', 'Delta Packets Tx Errors',\n",
       "       'Connection Point', 'Total Load/Rate', 'Total Load/Latest',\n",
       "       'Unknown Load/Rate', 'Unknown Load/Latest', 'Latest bytes counter',\n",
       "       'is_valid', 'Table ID', 'Active Flow Entries', 'Packets Looked Up',\n",
       "       'Packets Matched', 'Max Size', 'Label'],\n",
       "      dtype='object')"
      ]
     },
     "execution_count": 5,
     "metadata": {},
     "output_type": "execute_result"
    }
   ],
   "source": [
    "input_df.columns"
   ]
  },
  {
   "cell_type": "code",
   "execution_count": 6,
   "metadata": {},
   "outputs": [
    {
     "data": {
      "text/plain": [
       "Port Number                      int64\n",
       "Received Packets                 int64\n",
       "Received Bytes                   int64\n",
       "Sent Bytes                       int64\n",
       "Sent Packets                     int64\n",
       "Port alive Duration (S)          int64\n",
       "Packets Rx Dropped               int64\n",
       "Packets Tx Dropped               int64\n",
       "Packets Rx Errors                int64\n",
       "Packets Tx Errors                int64\n",
       "Delta Received Packets           int64\n",
       "Delta Received Bytes             int64\n",
       "Delta Sent Bytes                 int64\n",
       "Delta Sent Packets               int64\n",
       "Delta Port alive Duration (S)    int64\n",
       "Delta Packets Rx Dropped         int64\n",
       " Delta Packets Tx Dropped        int64\n",
       "Delta Packets Rx Errors          int64\n",
       "Delta Packets Tx Errors          int64\n",
       "Connection Point                 int64\n",
       "Total Load/Rate                  int64\n",
       "Total Load/Latest                int64\n",
       "Unknown Load/Rate                int64\n",
       "Unknown Load/Latest              int64\n",
       "Latest bytes counter             int64\n",
       "is_valid                         int64\n",
       "Table ID                         int64\n",
       "Active Flow Entries              int64\n",
       "Packets Looked Up                int64\n",
       "Packets Matched                  int64\n",
       "Max Size                         int64\n",
       "Label                            int64\n",
       "dtype: object"
      ]
     },
     "execution_count": 6,
     "metadata": {},
     "output_type": "execute_result"
    }
   ],
   "source": [
    "input_df.dtypes"
   ]
  },
  {
   "cell_type": "markdown",
   "metadata": {},
   "source": [
    "### Distribution of target variable"
   ]
  },
  {
   "cell_type": "code",
   "execution_count": 7,
   "metadata": {},
   "outputs": [
    {
     "data": {
      "text/plain": [
       "0    2641\n",
       "3     656\n",
       "2     646\n",
       "1     589\n",
       "4     395\n",
       "5      71\n",
       "Name: Label, dtype: int64"
      ]
     },
     "execution_count": 7,
     "metadata": {},
     "output_type": "execute_result"
    }
   ],
   "source": [
    "target_distrib = input_df['Label'].value_counts()\n",
    "target_distrib"
   ]
  },
  {
   "cell_type": "code",
   "execution_count": 8,
   "metadata": {},
   "outputs": [
    {
     "data": {
      "application/vnd.plotly.v1+json": {
       "config": {
        "plotlyServerURL": "https://plot.ly"
       },
       "data": [
        {
         "insidetextorientation": "radial",
         "labels": [
          0,
          3,
          2,
          1,
          4,
          5
         ],
         "textinfo": "label+percent",
         "type": "pie",
         "values": [
          2641,
          656,
          646,
          589,
          395,
          71
         ]
        }
       ],
       "layout": {
        "template": {
         "data": {
          "bar": [
           {
            "error_x": {
             "color": "#2a3f5f"
            },
            "error_y": {
             "color": "#2a3f5f"
            },
            "marker": {
             "line": {
              "color": "#E5ECF6",
              "width": 0.5
             },
             "pattern": {
              "fillmode": "overlay",
              "size": 10,
              "solidity": 0.2
             }
            },
            "type": "bar"
           }
          ],
          "barpolar": [
           {
            "marker": {
             "line": {
              "color": "#E5ECF6",
              "width": 0.5
             },
             "pattern": {
              "fillmode": "overlay",
              "size": 10,
              "solidity": 0.2
             }
            },
            "type": "barpolar"
           }
          ],
          "carpet": [
           {
            "aaxis": {
             "endlinecolor": "#2a3f5f",
             "gridcolor": "white",
             "linecolor": "white",
             "minorgridcolor": "white",
             "startlinecolor": "#2a3f5f"
            },
            "baxis": {
             "endlinecolor": "#2a3f5f",
             "gridcolor": "white",
             "linecolor": "white",
             "minorgridcolor": "white",
             "startlinecolor": "#2a3f5f"
            },
            "type": "carpet"
           }
          ],
          "choropleth": [
           {
            "colorbar": {
             "outlinewidth": 0,
             "ticks": ""
            },
            "type": "choropleth"
           }
          ],
          "contour": [
           {
            "colorbar": {
             "outlinewidth": 0,
             "ticks": ""
            },
            "colorscale": [
             [
              0,
              "#0d0887"
             ],
             [
              0.1111111111111111,
              "#46039f"
             ],
             [
              0.2222222222222222,
              "#7201a8"
             ],
             [
              0.3333333333333333,
              "#9c179e"
             ],
             [
              0.4444444444444444,
              "#bd3786"
             ],
             [
              0.5555555555555556,
              "#d8576b"
             ],
             [
              0.6666666666666666,
              "#ed7953"
             ],
             [
              0.7777777777777778,
              "#fb9f3a"
             ],
             [
              0.8888888888888888,
              "#fdca26"
             ],
             [
              1,
              "#f0f921"
             ]
            ],
            "type": "contour"
           }
          ],
          "contourcarpet": [
           {
            "colorbar": {
             "outlinewidth": 0,
             "ticks": ""
            },
            "type": "contourcarpet"
           }
          ],
          "heatmap": [
           {
            "colorbar": {
             "outlinewidth": 0,
             "ticks": ""
            },
            "colorscale": [
             [
              0,
              "#0d0887"
             ],
             [
              0.1111111111111111,
              "#46039f"
             ],
             [
              0.2222222222222222,
              "#7201a8"
             ],
             [
              0.3333333333333333,
              "#9c179e"
             ],
             [
              0.4444444444444444,
              "#bd3786"
             ],
             [
              0.5555555555555556,
              "#d8576b"
             ],
             [
              0.6666666666666666,
              "#ed7953"
             ],
             [
              0.7777777777777778,
              "#fb9f3a"
             ],
             [
              0.8888888888888888,
              "#fdca26"
             ],
             [
              1,
              "#f0f921"
             ]
            ],
            "type": "heatmap"
           }
          ],
          "heatmapgl": [
           {
            "colorbar": {
             "outlinewidth": 0,
             "ticks": ""
            },
            "colorscale": [
             [
              0,
              "#0d0887"
             ],
             [
              0.1111111111111111,
              "#46039f"
             ],
             [
              0.2222222222222222,
              "#7201a8"
             ],
             [
              0.3333333333333333,
              "#9c179e"
             ],
             [
              0.4444444444444444,
              "#bd3786"
             ],
             [
              0.5555555555555556,
              "#d8576b"
             ],
             [
              0.6666666666666666,
              "#ed7953"
             ],
             [
              0.7777777777777778,
              "#fb9f3a"
             ],
             [
              0.8888888888888888,
              "#fdca26"
             ],
             [
              1,
              "#f0f921"
             ]
            ],
            "type": "heatmapgl"
           }
          ],
          "histogram": [
           {
            "marker": {
             "pattern": {
              "fillmode": "overlay",
              "size": 10,
              "solidity": 0.2
             }
            },
            "type": "histogram"
           }
          ],
          "histogram2d": [
           {
            "colorbar": {
             "outlinewidth": 0,
             "ticks": ""
            },
            "colorscale": [
             [
              0,
              "#0d0887"
             ],
             [
              0.1111111111111111,
              "#46039f"
             ],
             [
              0.2222222222222222,
              "#7201a8"
             ],
             [
              0.3333333333333333,
              "#9c179e"
             ],
             [
              0.4444444444444444,
              "#bd3786"
             ],
             [
              0.5555555555555556,
              "#d8576b"
             ],
             [
              0.6666666666666666,
              "#ed7953"
             ],
             [
              0.7777777777777778,
              "#fb9f3a"
             ],
             [
              0.8888888888888888,
              "#fdca26"
             ],
             [
              1,
              "#f0f921"
             ]
            ],
            "type": "histogram2d"
           }
          ],
          "histogram2dcontour": [
           {
            "colorbar": {
             "outlinewidth": 0,
             "ticks": ""
            },
            "colorscale": [
             [
              0,
              "#0d0887"
             ],
             [
              0.1111111111111111,
              "#46039f"
             ],
             [
              0.2222222222222222,
              "#7201a8"
             ],
             [
              0.3333333333333333,
              "#9c179e"
             ],
             [
              0.4444444444444444,
              "#bd3786"
             ],
             [
              0.5555555555555556,
              "#d8576b"
             ],
             [
              0.6666666666666666,
              "#ed7953"
             ],
             [
              0.7777777777777778,
              "#fb9f3a"
             ],
             [
              0.8888888888888888,
              "#fdca26"
             ],
             [
              1,
              "#f0f921"
             ]
            ],
            "type": "histogram2dcontour"
           }
          ],
          "mesh3d": [
           {
            "colorbar": {
             "outlinewidth": 0,
             "ticks": ""
            },
            "type": "mesh3d"
           }
          ],
          "parcoords": [
           {
            "line": {
             "colorbar": {
              "outlinewidth": 0,
              "ticks": ""
             }
            },
            "type": "parcoords"
           }
          ],
          "pie": [
           {
            "automargin": true,
            "type": "pie"
           }
          ],
          "scatter": [
           {
            "fillpattern": {
             "fillmode": "overlay",
             "size": 10,
             "solidity": 0.2
            },
            "type": "scatter"
           }
          ],
          "scatter3d": [
           {
            "line": {
             "colorbar": {
              "outlinewidth": 0,
              "ticks": ""
             }
            },
            "marker": {
             "colorbar": {
              "outlinewidth": 0,
              "ticks": ""
             }
            },
            "type": "scatter3d"
           }
          ],
          "scattercarpet": [
           {
            "marker": {
             "colorbar": {
              "outlinewidth": 0,
              "ticks": ""
             }
            },
            "type": "scattercarpet"
           }
          ],
          "scattergeo": [
           {
            "marker": {
             "colorbar": {
              "outlinewidth": 0,
              "ticks": ""
             }
            },
            "type": "scattergeo"
           }
          ],
          "scattergl": [
           {
            "marker": {
             "colorbar": {
              "outlinewidth": 0,
              "ticks": ""
             }
            },
            "type": "scattergl"
           }
          ],
          "scattermapbox": [
           {
            "marker": {
             "colorbar": {
              "outlinewidth": 0,
              "ticks": ""
             }
            },
            "type": "scattermapbox"
           }
          ],
          "scatterpolar": [
           {
            "marker": {
             "colorbar": {
              "outlinewidth": 0,
              "ticks": ""
             }
            },
            "type": "scatterpolar"
           }
          ],
          "scatterpolargl": [
           {
            "marker": {
             "colorbar": {
              "outlinewidth": 0,
              "ticks": ""
             }
            },
            "type": "scatterpolargl"
           }
          ],
          "scatterternary": [
           {
            "marker": {
             "colorbar": {
              "outlinewidth": 0,
              "ticks": ""
             }
            },
            "type": "scatterternary"
           }
          ],
          "surface": [
           {
            "colorbar": {
             "outlinewidth": 0,
             "ticks": ""
            },
            "colorscale": [
             [
              0,
              "#0d0887"
             ],
             [
              0.1111111111111111,
              "#46039f"
             ],
             [
              0.2222222222222222,
              "#7201a8"
             ],
             [
              0.3333333333333333,
              "#9c179e"
             ],
             [
              0.4444444444444444,
              "#bd3786"
             ],
             [
              0.5555555555555556,
              "#d8576b"
             ],
             [
              0.6666666666666666,
              "#ed7953"
             ],
             [
              0.7777777777777778,
              "#fb9f3a"
             ],
             [
              0.8888888888888888,
              "#fdca26"
             ],
             [
              1,
              "#f0f921"
             ]
            ],
            "type": "surface"
           }
          ],
          "table": [
           {
            "cells": {
             "fill": {
              "color": "#EBF0F8"
             },
             "line": {
              "color": "white"
             }
            },
            "header": {
             "fill": {
              "color": "#C8D4E3"
             },
             "line": {
              "color": "white"
             }
            },
            "type": "table"
           }
          ]
         },
         "layout": {
          "annotationdefaults": {
           "arrowcolor": "#2a3f5f",
           "arrowhead": 0,
           "arrowwidth": 1
          },
          "autotypenumbers": "strict",
          "coloraxis": {
           "colorbar": {
            "outlinewidth": 0,
            "ticks": ""
           }
          },
          "colorscale": {
           "diverging": [
            [
             0,
             "#8e0152"
            ],
            [
             0.1,
             "#c51b7d"
            ],
            [
             0.2,
             "#de77ae"
            ],
            [
             0.3,
             "#f1b6da"
            ],
            [
             0.4,
             "#fde0ef"
            ],
            [
             0.5,
             "#f7f7f7"
            ],
            [
             0.6,
             "#e6f5d0"
            ],
            [
             0.7,
             "#b8e186"
            ],
            [
             0.8,
             "#7fbc41"
            ],
            [
             0.9,
             "#4d9221"
            ],
            [
             1,
             "#276419"
            ]
           ],
           "sequential": [
            [
             0,
             "#0d0887"
            ],
            [
             0.1111111111111111,
             "#46039f"
            ],
            [
             0.2222222222222222,
             "#7201a8"
            ],
            [
             0.3333333333333333,
             "#9c179e"
            ],
            [
             0.4444444444444444,
             "#bd3786"
            ],
            [
             0.5555555555555556,
             "#d8576b"
            ],
            [
             0.6666666666666666,
             "#ed7953"
            ],
            [
             0.7777777777777778,
             "#fb9f3a"
            ],
            [
             0.8888888888888888,
             "#fdca26"
            ],
            [
             1,
             "#f0f921"
            ]
           ],
           "sequentialminus": [
            [
             0,
             "#0d0887"
            ],
            [
             0.1111111111111111,
             "#46039f"
            ],
            [
             0.2222222222222222,
             "#7201a8"
            ],
            [
             0.3333333333333333,
             "#9c179e"
            ],
            [
             0.4444444444444444,
             "#bd3786"
            ],
            [
             0.5555555555555556,
             "#d8576b"
            ],
            [
             0.6666666666666666,
             "#ed7953"
            ],
            [
             0.7777777777777778,
             "#fb9f3a"
            ],
            [
             0.8888888888888888,
             "#fdca26"
            ],
            [
             1,
             "#f0f921"
            ]
           ]
          },
          "colorway": [
           "#636efa",
           "#EF553B",
           "#00cc96",
           "#ab63fa",
           "#FFA15A",
           "#19d3f3",
           "#FF6692",
           "#B6E880",
           "#FF97FF",
           "#FECB52"
          ],
          "font": {
           "color": "#2a3f5f"
          },
          "geo": {
           "bgcolor": "white",
           "lakecolor": "white",
           "landcolor": "#E5ECF6",
           "showlakes": true,
           "showland": true,
           "subunitcolor": "white"
          },
          "hoverlabel": {
           "align": "left"
          },
          "hovermode": "closest",
          "mapbox": {
           "style": "light"
          },
          "paper_bgcolor": "white",
          "plot_bgcolor": "#E5ECF6",
          "polar": {
           "angularaxis": {
            "gridcolor": "white",
            "linecolor": "white",
            "ticks": ""
           },
           "bgcolor": "#E5ECF6",
           "radialaxis": {
            "gridcolor": "white",
            "linecolor": "white",
            "ticks": ""
           }
          },
          "scene": {
           "xaxis": {
            "backgroundcolor": "#E5ECF6",
            "gridcolor": "white",
            "gridwidth": 2,
            "linecolor": "white",
            "showbackground": true,
            "ticks": "",
            "zerolinecolor": "white"
           },
           "yaxis": {
            "backgroundcolor": "#E5ECF6",
            "gridcolor": "white",
            "gridwidth": 2,
            "linecolor": "white",
            "showbackground": true,
            "ticks": "",
            "zerolinecolor": "white"
           },
           "zaxis": {
            "backgroundcolor": "#E5ECF6",
            "gridcolor": "white",
            "gridwidth": 2,
            "linecolor": "white",
            "showbackground": true,
            "ticks": "",
            "zerolinecolor": "white"
           }
          },
          "shapedefaults": {
           "line": {
            "color": "#2a3f5f"
           }
          },
          "ternary": {
           "aaxis": {
            "gridcolor": "white",
            "linecolor": "white",
            "ticks": ""
           },
           "baxis": {
            "gridcolor": "white",
            "linecolor": "white",
            "ticks": ""
           },
           "bgcolor": "#E5ECF6",
           "caxis": {
            "gridcolor": "white",
            "linecolor": "white",
            "ticks": ""
           }
          },
          "title": {
           "x": 0.05
          },
          "xaxis": {
           "automargin": true,
           "gridcolor": "white",
           "linecolor": "white",
           "ticks": "",
           "title": {
            "standoff": 15
           },
           "zerolinecolor": "white",
           "zerolinewidth": 2
          },
          "yaxis": {
           "automargin": true,
           "gridcolor": "white",
           "linecolor": "white",
           "ticks": "",
           "title": {
            "standoff": 15
           },
           "zerolinecolor": "white",
           "zerolinewidth": 2
          }
         }
        }
       }
      }
     },
     "metadata": {},
     "output_type": "display_data"
    }
   ],
   "source": [
    "labels = target_distrib.index\n",
    "values = list(target_distrib)\n",
    "\n",
    "fig = go.Figure(data=[go.Pie(labels=labels, values=values, textinfo='label+percent',\n",
    "                             insidetextorientation='radial'\n",
    "                            )])\n",
    "fig.show()"
   ]
  },
  {
   "cell_type": "markdown",
   "metadata": {},
   "source": [
    "### Checking for null values"
   ]
  },
  {
   "cell_type": "code",
   "execution_count": 9,
   "metadata": {},
   "outputs": [
    {
     "data": {
      "text/plain": [
       "Port Number                      0\n",
       "Received Packets                 0\n",
       "Received Bytes                   0\n",
       "Sent Bytes                       0\n",
       "Sent Packets                     0\n",
       "Port alive Duration (S)          0\n",
       "Packets Rx Dropped               0\n",
       "Packets Tx Dropped               0\n",
       "Packets Rx Errors                0\n",
       "Packets Tx Errors                0\n",
       "Delta Received Packets           0\n",
       "Delta Received Bytes             0\n",
       "Delta Sent Bytes                 0\n",
       "Delta Sent Packets               0\n",
       "Delta Port alive Duration (S)    0\n",
       "Delta Packets Rx Dropped         0\n",
       " Delta Packets Tx Dropped        0\n",
       "Delta Packets Rx Errors          0\n",
       "Delta Packets Tx Errors          0\n",
       "Connection Point                 0\n",
       "Total Load/Rate                  0\n",
       "Total Load/Latest                0\n",
       "Unknown Load/Rate                0\n",
       "Unknown Load/Latest              0\n",
       "Latest bytes counter             0\n",
       "is_valid                         0\n",
       "Table ID                         0\n",
       "Active Flow Entries              0\n",
       "Packets Looked Up                0\n",
       "Packets Matched                  0\n",
       "Max Size                         0\n",
       "Label                            0\n",
       "dtype: int64"
      ]
     },
     "execution_count": 9,
     "metadata": {},
     "output_type": "execute_result"
    }
   ],
   "source": [
    "input_df.isnull().sum()"
   ]
  },
  {
   "cell_type": "code",
   "execution_count": 5,
   "metadata": {},
   "outputs": [],
   "source": [
    "X = input_df.drop(columns=[\"Label\"])\n",
    "Y = input_df[\"Label\"]"
   ]
  },
  {
   "cell_type": "markdown",
   "metadata": {},
   "source": [
    "### Dropping zero variance columns"
   ]
  },
  {
   "cell_type": "code",
   "execution_count": 6,
   "metadata": {},
   "outputs": [
    {
     "name": "stdout",
     "output_type": "stream",
     "text": [
      "Number of numerical columns before zero variance thresholding: 31\n",
      "Number of numerical columns after zero variance thresholding: 20\n"
     ]
    }
   ],
   "source": [
    "print(\"Number of numerical columns before zero variance thresholding: {}\".format(len(X.columns)))\n",
    "\n",
    "# Applying variance thresholding on the numerical columns\n",
    "selector = VarianceThreshold(0.1)\n",
    "filtered_data = selector.fit_transform(X)\n",
    "\n",
    "# Get selected numerical column names\n",
    "selected_numerical_cols = X.columns[selector.get_support()]\n",
    "# Create dataframe with selected numerical columns\n",
    "X = pd.DataFrame(filtered_data, columns=selected_numerical_cols)\n",
    "print(\"Number of numerical columns after zero variance thresholding: {}\".format(len(selected_numerical_cols)))"
   ]
  },
  {
   "cell_type": "code",
   "execution_count": 6,
   "metadata": {},
   "outputs": [
    {
     "data": {
      "text/plain": [
       "Index(['Port Number', 'Received Packets', 'Received Bytes', 'Sent Bytes',\n",
       "       'Sent Packets', 'Port alive Duration (S)', 'Delta Received Packets',\n",
       "       'Delta Received Bytes', 'Delta Sent Bytes', 'Delta Sent Packets',\n",
       "       'Delta Port alive Duration (S)', 'Connection Point', 'Total Load/Rate',\n",
       "       'Total Load/Latest', 'Unknown Load/Rate', 'Unknown Load/Latest',\n",
       "       'Latest bytes counter', 'Active Flow Entries', 'Packets Looked Up',\n",
       "       'Packets Matched'],\n",
       "      dtype='object')"
      ]
     },
     "execution_count": 6,
     "metadata": {},
     "output_type": "execute_result"
    }
   ],
   "source": [
    "selected_numerical_cols"
   ]
  },
  {
   "cell_type": "code",
   "execution_count": 7,
   "metadata": {},
   "outputs": [],
   "source": [
    "X_test = X_test[selected_numerical_cols]"
   ]
  },
  {
   "cell_type": "code",
   "execution_count": 9,
   "metadata": {},
   "outputs": [
    {
     "data": {
      "text/plain": [
       "(4998, 20)"
      ]
     },
     "execution_count": 9,
     "metadata": {},
     "output_type": "execute_result"
    }
   ],
   "source": [
    "X.shape"
   ]
  },
  {
   "cell_type": "code",
   "execution_count": 8,
   "metadata": {},
   "outputs": [
    {
     "data": {
      "text/plain": [
       "(2143, 20)"
      ]
     },
     "execution_count": 8,
     "metadata": {},
     "output_type": "execute_result"
    }
   ],
   "source": [
    "X_test.shape"
   ]
  },
  {
   "cell_type": "code",
   "execution_count": 8,
   "metadata": {},
   "outputs": [],
   "source": [
    "X_train, X_val, y_train, y_val = train_test_split(X, Y, test_size=0.3, random_state=42, stratify=Y)"
   ]
  },
  {
   "cell_type": "code",
   "execution_count": 11,
   "metadata": {},
   "outputs": [
    {
     "data": {
      "text/plain": [
       "((3498, 20), (1500, 20))"
      ]
     },
     "execution_count": 11,
     "metadata": {},
     "output_type": "execute_result"
    }
   ],
   "source": [
    "X_train.shape, X_val.shape"
   ]
  },
  {
   "cell_type": "markdown",
   "metadata": {},
   "source": [
    "## Machine Learning Models"
   ]
  },
  {
   "cell_type": "markdown",
   "metadata": {},
   "source": [
    "### Machine learning models util"
   ]
  },
  {
   "cell_type": "code",
   "execution_count": 88,
   "metadata": {},
   "outputs": [],
   "source": [
    "def perform_grid_search(model, param_grid, cv=5):\n",
    "    # Perform grid search with cross-validation\n",
    "    grid_search = GridSearchCV(model, param_grid, cv=cv)\n",
    "    grid_search.fit(X_train, y_train)\n",
    "\n",
    "    # Get the best model and its hyperparameters\n",
    "    best_model = grid_search.best_estimator_\n",
    "    best_params = grid_search.best_params_\n",
    "\n",
    "    return best_model, best_params"
   ]
  },
  {
   "cell_type": "code",
   "execution_count": 89,
   "metadata": {},
   "outputs": [],
   "source": [
    "def classification_report_on_train_and_val(model, X_train, y_train, X_val, y_val, X_test, ann=False):\n",
    "    if ann:\n",
    "        #For ANN case only\n",
    "        y_train_pred = np.argmax(model.predict(X_train), axis=-1)\n",
    "        y_val_pred = np.argmax(model.predict(X_val), axis=-1)\n",
    "        y_test_pred = np.argmax(model.predict(X_test), axis=-1)\n",
    "    else:\n",
    "        y_train_pred = model.predict(X_train)\n",
    "        y_val_pred = model.predict(X_val)\n",
    "        y_test_pred = model.predict(X_test)\n",
    "\n",
    "    print(\"Classification report on train dataset: \")\n",
    "    print(classification_report(y_train, y_train_pred))\n",
    "    print(\"Classification report on validation dataset: \")\n",
    "    print(classification_report(y_val, y_val_pred))\n",
    "    return y_test_pred"
   ]
  },
  {
   "cell_type": "markdown",
   "metadata": {},
   "source": [
    "### Logistic Regression"
   ]
  },
  {
   "cell_type": "code",
   "execution_count": 90,
   "metadata": {},
   "outputs": [
    {
     "name": "stdout",
     "output_type": "stream",
     "text": [
      "{'C': 10.0, 'penalty': 'l1'}\n",
      "Classification report on train dataset: \n",
      "              precision    recall  f1-score   support\n",
      "\n",
      "           0       1.00      1.00      1.00      1848\n",
      "           1       0.98      0.87      0.92       412\n",
      "           2       0.66      0.85      0.74       452\n",
      "           3       0.84      0.60      0.70       459\n",
      "           4       0.86      0.93      0.89       277\n",
      "           5       0.38      0.56      0.46        50\n",
      "\n",
      "    accuracy                           0.90      3498\n",
      "   macro avg       0.79      0.80      0.78      3498\n",
      "weighted avg       0.91      0.90      0.90      3498\n",
      "\n",
      "Classification report on validation dataset: \n",
      "              precision    recall  f1-score   support\n",
      "\n",
      "           0       1.00      1.00      1.00       793\n",
      "           1       0.97      0.79      0.87       177\n",
      "           2       0.67      0.82      0.74       194\n",
      "           3       0.82      0.66      0.73       197\n",
      "           4       0.79      0.92      0.85       118\n",
      "           5       0.32      0.48      0.38        21\n",
      "\n",
      "    accuracy                           0.89      1500\n",
      "   macro avg       0.76      0.78      0.76      1500\n",
      "weighted avg       0.90      0.89      0.90      1500\n",
      "\n"
     ]
    }
   ],
   "source": [
    "# Define the Logistic Regression model\n",
    "model = LogisticRegression(random_state=0, class_weight='balanced', multi_class='ovr', solver='liblinear')\n",
    "\n",
    "# Define the hyperparameter grid to search over\n",
    "param_grid = {\n",
    "    'penalty': ['l1', 'l2'],\n",
    "    'C': [0.1, 1.0, 10.0]\n",
    "}\n",
    "\n",
    "best_model, best_params = perform_grid_search(model, param_grid)\n",
    "print(best_params)\n",
    "y_pred_LR = classification_report_on_train_and_val(best_model, X_train, y_train, X_val, y_val, X_test)"
   ]
  },
  {
   "cell_type": "markdown",
   "metadata": {},
   "source": [
    "### SVM Classifier"
   ]
  },
  {
   "cell_type": "code",
   "execution_count": 97,
   "metadata": {},
   "outputs": [
    {
     "name": "stdout",
     "output_type": "stream",
     "text": [
      "{'C': 10, 'kernel': 'linear'}\n",
      "Classification report on train dataset: \n",
      "              precision    recall  f1-score   support\n",
      "\n",
      "           0       1.00      1.00      1.00      1848\n",
      "           1       0.99      0.85      0.92       412\n",
      "           2       0.66      0.91      0.77       452\n",
      "           3       0.94      0.54      0.69       459\n",
      "           4       0.90      0.90      0.90       277\n",
      "           5       0.35      0.90      0.50        50\n",
      "\n",
      "    accuracy                           0.90      3498\n",
      "   macro avg       0.81      0.85      0.79      3498\n",
      "weighted avg       0.93      0.90      0.90      3498\n",
      "\n",
      "Classification report on validation dataset: \n",
      "              precision    recall  f1-score   support\n",
      "\n",
      "           0       1.00      1.00      1.00       793\n",
      "           1       0.95      0.81      0.87       177\n",
      "           2       0.64      0.90      0.75       194\n",
      "           3       0.93      0.55      0.69       197\n",
      "           4       0.85      0.86      0.86       118\n",
      "           5       0.35      0.81      0.49        21\n",
      "\n",
      "    accuracy                           0.89      1500\n",
      "   macro avg       0.79      0.82      0.78      1500\n",
      "weighted avg       0.92      0.89      0.89      1500\n",
      "\n"
     ]
    }
   ],
   "source": [
    "svm_model = SVC(class_weight='balanced')\n",
    "param_grid = {'C': [0.1, 1, 10], 'kernel': ['linear', 'sigmoid', 'rbf']}\n",
    "\n",
    "best_model, best_params = perform_grid_search(svm_model, param_grid)\n",
    "print(best_params)\n",
    "y_pred_SVC = classification_report_on_train_and_val(best_model, X_train, y_train, X_val, y_val, X_test)"
   ]
  },
  {
   "cell_type": "markdown",
   "metadata": {},
   "source": [
    "### Decision Tree Classifier"
   ]
  },
  {
   "cell_type": "code",
   "execution_count": 91,
   "metadata": {},
   "outputs": [
    {
     "name": "stdout",
     "output_type": "stream",
     "text": [
      "{'criterion': 'gini', 'max_depth': None}\n",
      "Classification report on train dataset: \n",
      "              precision    recall  f1-score   support\n",
      "\n",
      "           0       1.00      1.00      1.00      1848\n",
      "           1       1.00      1.00      1.00       412\n",
      "           2       1.00      1.00      1.00       452\n",
      "           3       1.00      1.00      1.00       459\n",
      "           4       1.00      1.00      1.00       277\n",
      "           5       1.00      1.00      1.00        50\n",
      "\n",
      "    accuracy                           1.00      3498\n",
      "   macro avg       1.00      1.00      1.00      3498\n",
      "weighted avg       1.00      1.00      1.00      3498\n",
      "\n",
      "Classification report on validation dataset: \n",
      "              precision    recall  f1-score   support\n",
      "\n",
      "           0       1.00      1.00      1.00       793\n",
      "           1       0.91      0.88      0.89       177\n",
      "           2       0.79      0.81      0.80       194\n",
      "           3       0.80      0.84      0.82       197\n",
      "           4       0.93      0.89      0.91       118\n",
      "           5       0.44      0.33      0.38        21\n",
      "\n",
      "    accuracy                           0.92      1500\n",
      "   macro avg       0.81      0.79      0.80      1500\n",
      "weighted avg       0.92      0.92      0.92      1500\n",
      "\n"
     ]
    }
   ],
   "source": [
    "tree_model = DecisionTreeClassifier(class_weight='balanced')\n",
    "param_grid = {'max_depth': [None, 5, 10], 'criterion': ['gini', 'entropy']}\n",
    "\n",
    "best_model, best_params = perform_grid_search(tree_model, param_grid)\n",
    "print(best_params)\n",
    "y_pred_dt = classification_report_on_train_and_val(best_model, X_train, y_train, X_val, y_val, X_test)"
   ]
  },
  {
   "cell_type": "markdown",
   "metadata": {},
   "source": [
    "### Random Forest Classifier"
   ]
  },
  {
   "cell_type": "code",
   "execution_count": 92,
   "metadata": {},
   "outputs": [
    {
     "name": "stdout",
     "output_type": "stream",
     "text": [
      "{'max_depth': None, 'n_estimators': 100}\n",
      "Classification report on train dataset: \n",
      "              precision    recall  f1-score   support\n",
      "\n",
      "           0       1.00      1.00      1.00      1848\n",
      "           1       1.00      1.00      1.00       412\n",
      "           2       1.00      1.00      1.00       452\n",
      "           3       1.00      1.00      1.00       459\n",
      "           4       1.00      1.00      1.00       277\n",
      "           5       1.00      1.00      1.00        50\n",
      "\n",
      "    accuracy                           1.00      3498\n",
      "   macro avg       1.00      1.00      1.00      3498\n",
      "weighted avg       1.00      1.00      1.00      3498\n",
      "\n",
      "Classification report on validation dataset: \n",
      "              precision    recall  f1-score   support\n",
      "\n",
      "           0       1.00      1.00      1.00       793\n",
      "           1       0.91      0.89      0.90       177\n",
      "           2       0.80      0.85      0.82       194\n",
      "           3       0.81      0.86      0.84       197\n",
      "           4       0.91      0.81      0.86       118\n",
      "           5       0.85      0.52      0.65        21\n",
      "\n",
      "    accuracy                           0.93      1500\n",
      "   macro avg       0.88      0.82      0.85      1500\n",
      "weighted avg       0.93      0.93      0.93      1500\n",
      "\n"
     ]
    }
   ],
   "source": [
    "rf_model = RandomForestClassifier(oob_score=True, class_weight='balanced')\n",
    "param_grid = {'n_estimators': [100, 200, 300], 'max_depth': [None, 5, 10]}\n",
    "\n",
    "best_model, best_params = perform_grid_search(rf_model, param_grid)\n",
    "print(best_params)\n",
    "y_pred_rf = classification_report_on_train_and_val(best_model, X_train, y_train, X_val, y_val, X_test)"
   ]
  },
  {
   "cell_type": "code",
   "execution_count": 93,
   "metadata": {},
   "outputs": [
    {
     "data": {
      "text/plain": [
       "0.9228130360205832"
      ]
     },
     "execution_count": 93,
     "metadata": {},
     "output_type": "execute_result"
    }
   ],
   "source": [
    "# Out of bag accuracy\n",
    "best_model.oob_score_"
   ]
  },
  {
   "cell_type": "markdown",
   "metadata": {},
   "source": [
    "### XGBoost Classifier"
   ]
  },
  {
   "cell_type": "code",
   "execution_count": 94,
   "metadata": {},
   "outputs": [
    {
     "name": "stdout",
     "output_type": "stream",
     "text": [
      "{'learning_rate': 0.1, 'max_depth': 7}\n",
      "Classification report on train dataset: \n",
      "              precision    recall  f1-score   support\n",
      "\n",
      "           0       1.00      1.00      1.00      1848\n",
      "           1       1.00      1.00      1.00       412\n",
      "           2       1.00      1.00      1.00       452\n",
      "           3       1.00      1.00      1.00       459\n",
      "           4       1.00      1.00      1.00       277\n",
      "           5       1.00      1.00      1.00        50\n",
      "\n",
      "    accuracy                           1.00      3498\n",
      "   macro avg       1.00      1.00      1.00      3498\n",
      "weighted avg       1.00      1.00      1.00      3498\n",
      "\n",
      "Classification report on validation dataset: \n",
      "              precision    recall  f1-score   support\n",
      "\n",
      "           0       1.00      1.00      1.00       793\n",
      "           1       0.96      0.92      0.94       177\n",
      "           2       0.80      0.82      0.81       194\n",
      "           3       0.80      0.86      0.83       197\n",
      "           4       0.95      0.94      0.94       118\n",
      "           5       0.83      0.48      0.61        21\n",
      "\n",
      "    accuracy                           0.94      1500\n",
      "   macro avg       0.89      0.84      0.86      1500\n",
      "weighted avg       0.94      0.94      0.94      1500\n",
      "\n"
     ]
    }
   ],
   "source": [
    "xgb_model = xgb.XGBClassifier()\n",
    "param_grid = {'max_depth': [3, 5, 7], 'learning_rate': [0.1, 0.01, 0.001]}\n",
    "\n",
    "best_model, best_params = perform_grid_search(xgb_model, param_grid)\n",
    "print(best_params)\n",
    "y_pred_xgb = classification_report_on_train_and_val(best_model, X_train, y_train, X_val, y_val, X_test)"
   ]
  },
  {
   "cell_type": "markdown",
   "metadata": {},
   "source": [
    "### KNN Classifier"
   ]
  },
  {
   "cell_type": "code",
   "execution_count": 95,
   "metadata": {},
   "outputs": [
    {
     "name": "stdout",
     "output_type": "stream",
     "text": [
      "{'n_neighbors': 5, 'weights': 'distance'}\n",
      "Classification report on train dataset: \n",
      "              precision    recall  f1-score   support\n",
      "\n",
      "           0       1.00      1.00      1.00      1848\n",
      "           1       1.00      1.00      1.00       412\n",
      "           2       1.00      1.00      1.00       452\n",
      "           3       1.00      1.00      1.00       459\n",
      "           4       1.00      1.00      1.00       277\n",
      "           5       1.00      1.00      1.00        50\n",
      "\n",
      "    accuracy                           1.00      3498\n",
      "   macro avg       1.00      1.00      1.00      3498\n",
      "weighted avg       1.00      1.00      1.00      3498\n",
      "\n",
      "Classification report on validation dataset: \n",
      "              precision    recall  f1-score   support\n",
      "\n",
      "           0       0.99      1.00      0.99       793\n",
      "           1       0.92      0.75      0.83       177\n",
      "           2       0.67      0.76      0.71       194\n",
      "           3       0.74      0.75      0.74       197\n",
      "           4       0.82      0.88      0.85       118\n",
      "           5       0.64      0.33      0.44        21\n",
      "\n",
      "    accuracy                           0.89      1500\n",
      "   macro avg       0.80      0.74      0.76      1500\n",
      "weighted avg       0.89      0.89      0.89      1500\n",
      "\n"
     ]
    }
   ],
   "source": [
    "knn_model = KNeighborsClassifier()\n",
    "param_grid = {'n_neighbors': [3, 5, 7], 'weights': ['uniform', 'distance']}\n",
    "\n",
    "best_model, best_params = perform_grid_search(knn_model, param_grid)\n",
    "print(best_params)\n",
    "y_pred_knn = classification_report_on_train_and_val(best_model, X_train, y_train, X_val, y_val, X_test)"
   ]
  },
  {
   "cell_type": "markdown",
   "metadata": {},
   "source": [
    "### Building an Artificial Neural Network"
   ]
  },
  {
   "cell_type": "code",
   "execution_count": 80,
   "metadata": {},
   "outputs": [],
   "source": [
    "from sklearn.preprocessing import StandardScaler\n",
    "\n",
    "scaler = StandardScaler()\n",
    "X_train = scaler.fit_transform(X_train[selected_numerical_cols])\n",
    "X_val = scaler.transform(X_val)\n",
    "X_test = scaler.transform(X_val)"
   ]
  },
  {
   "cell_type": "code",
   "execution_count": 81,
   "metadata": {},
   "outputs": [],
   "source": [
    "from sklearn.utils.class_weight import compute_class_weight\n",
    "\n",
    "# Assigning class weights due to class imbalance\n",
    "weights = compute_class_weight(class_weight='balanced', classes=np.unique(y_train), y=y_train)\n",
    "\n",
    "#Classes in the data\n",
    "classes = np.unique(y_train)\n",
    "weights\n",
    "\n",
    "#Class weights dictionary\n",
    "class_weights = dict(zip(classes, weights))"
   ]
  },
  {
   "cell_type": "code",
   "execution_count": 82,
   "metadata": {},
   "outputs": [
    {
     "name": "stdout",
     "output_type": "stream",
     "text": [
      "Model: \"sequential_15\"\n",
      "_________________________________________________________________\n",
      " Layer (type)                Output Shape              Param #   \n",
      "=================================================================\n",
      " dense_52 (Dense)            (None, 64)                1344      \n",
      "                                                                 \n",
      " dense_53 (Dense)            (None, 128)               8320      \n",
      "                                                                 \n",
      " dense_54 (Dense)            (None, 256)               33024     \n"
     ]
    },
    {
     "name": "stdout",
     "output_type": "stream",
     "text": [
      "                                                                 \n",
      " dense_55 (Dense)            (None, 6)                 1542      \n",
      "                                                                 \n",
      "=================================================================\n",
      "Total params: 44,230\n",
      "Trainable params: 44,230\n",
      "Non-trainable params: 0\n",
      "_________________________________________________________________\n",
      "None\n"
     ]
    }
   ],
   "source": [
    "model = Sequential()\n",
    "model.add(Dense(64, activation='relu', input_shape=(X_train.shape[1],)))\n",
    "model.add(Dense(128, activation='relu'))\n",
    "model.add(Dense(256, activation='relu'))\n",
    "model.add(Dense(6, activation='softmax'))\n",
    "\n",
    "print(model.summary())"
   ]
  },
  {
   "cell_type": "code",
   "execution_count": 83,
   "metadata": {},
   "outputs": [],
   "source": [
    "# Compile the model\n",
    "model.compile(optimizer='adam', loss='sparse_categorical_crossentropy', metrics=['accuracy'])"
   ]
  },
  {
   "cell_type": "code",
   "execution_count": 84,
   "metadata": {},
   "outputs": [
    {
     "name": "stdout",
     "output_type": "stream",
     "text": [
      "Epoch 1/100\n",
      "110/110 [==============================] - 1s 2ms/step - loss: 1.0642 - accuracy: 0.7338 - val_loss: 0.6014 - val_accuracy: 0.6913\n",
      "Epoch 2/100\n",
      "110/110 [==============================] - 0s 1ms/step - loss: 0.7164 - accuracy: 0.8219 - val_loss: 0.4572 - val_accuracy: 0.8033\n",
      "Epoch 3/100\n",
      "110/110 [==============================] - 0s 1ms/step - loss: 0.6165 - accuracy: 0.8433 - val_loss: 0.3764 - val_accuracy: 0.8320\n",
      "Epoch 4/100\n",
      "110/110 [==============================] - 0s 1ms/step - loss: 0.5551 - accuracy: 0.8622 - val_loss: 0.3482 - val_accuracy: 0.8607\n",
      "Epoch 5/100\n",
      "110/110 [==============================] - 0s 1ms/step - loss: 0.5402 - accuracy: 0.8682 - val_loss: 0.3401 - val_accuracy: 0.8680\n",
      "Epoch 6/100\n",
      "110/110 [==============================] - 0s 1ms/step - loss: 0.4627 - accuracy: 0.8874 - val_loss: 0.3391 - val_accuracy: 0.8607\n",
      "Epoch 7/100\n",
      "110/110 [==============================] - 0s 1ms/step - loss: 0.4419 - accuracy: 0.8899 - val_loss: 0.3403 - val_accuracy: 0.8760\n",
      "Epoch 8/100\n",
      "110/110 [==============================] - 0s 1ms/step - loss: 0.4460 - accuracy: 0.8874 - val_loss: 0.3415 - val_accuracy: 0.8787\n",
      "Epoch 9/100\n",
      "110/110 [==============================] - 0s 1ms/step - loss: 0.4113 - accuracy: 0.9019 - val_loss: 0.3240 - val_accuracy: 0.8800\n",
      "Epoch 10/100\n",
      "110/110 [==============================] - 0s 1ms/step - loss: 0.4123 - accuracy: 0.8899 - val_loss: 0.3187 - val_accuracy: 0.8867\n",
      "Epoch 11/100\n",
      "110/110 [==============================] - 0s 999us/step - loss: 0.4097 - accuracy: 0.8965 - val_loss: 0.3279 - val_accuracy: 0.8740\n",
      "Epoch 12/100\n",
      "110/110 [==============================] - 0s 1ms/step - loss: 0.3809 - accuracy: 0.8948 - val_loss: 0.2921 - val_accuracy: 0.8980\n",
      "Epoch 13/100\n",
      "110/110 [==============================] - 0s 1ms/step - loss: 0.3798 - accuracy: 0.9008 - val_loss: 0.3007 - val_accuracy: 0.8960\n",
      "Epoch 14/100\n",
      "110/110 [==============================] - 0s 998us/step - loss: 0.3678 - accuracy: 0.9022 - val_loss: 0.3225 - val_accuracy: 0.8847\n",
      "Epoch 15/100\n",
      "110/110 [==============================] - 0s 1ms/step - loss: 0.3514 - accuracy: 0.9082 - val_loss: 0.3032 - val_accuracy: 0.8993\n",
      "Epoch 16/100\n",
      "110/110 [==============================] - 0s 985us/step - loss: 0.3527 - accuracy: 0.9091 - val_loss: 0.3113 - val_accuracy: 0.8933\n",
      "Epoch 17/100\n",
      "110/110 [==============================] - 0s 981us/step - loss: 0.3384 - accuracy: 0.9077 - val_loss: 0.2999 - val_accuracy: 0.9000\n",
      "Epoch 18/100\n",
      "110/110 [==============================] - 0s 988us/step - loss: 0.3355 - accuracy: 0.9088 - val_loss: 0.2928 - val_accuracy: 0.9020\n",
      "Epoch 19/100\n",
      "110/110 [==============================] - 0s 981us/step - loss: 0.3302 - accuracy: 0.9131 - val_loss: 0.3826 - val_accuracy: 0.8727\n",
      "Epoch 20/100\n",
      "110/110 [==============================] - 0s 980us/step - loss: 0.3838 - accuracy: 0.8985 - val_loss: 0.2773 - val_accuracy: 0.9040\n",
      "Epoch 21/100\n",
      "110/110 [==============================] - 0s 993us/step - loss: 0.3142 - accuracy: 0.9119 - val_loss: 0.2977 - val_accuracy: 0.8960\n",
      "Epoch 22/100\n",
      "110/110 [==============================] - 0s 986us/step - loss: 0.3192 - accuracy: 0.9122 - val_loss: 0.2694 - val_accuracy: 0.9093\n",
      "Epoch 23/100\n",
      "110/110 [==============================] - 0s 995us/step - loss: 0.3646 - accuracy: 0.9051 - val_loss: 0.3069 - val_accuracy: 0.8887\n",
      "Epoch 24/100\n",
      "110/110 [==============================] - 0s 966us/step - loss: 0.3136 - accuracy: 0.9191 - val_loss: 0.3153 - val_accuracy: 0.8900\n",
      "Epoch 25/100\n",
      "110/110 [==============================] - 0s 990us/step - loss: 0.3108 - accuracy: 0.9111 - val_loss: 0.2976 - val_accuracy: 0.8993\n",
      "Epoch 26/100\n",
      "110/110 [==============================] - 0s 974us/step - loss: 0.2976 - accuracy: 0.9142 - val_loss: 0.3018 - val_accuracy: 0.9020\n",
      "Epoch 27/100\n",
      "110/110 [==============================] - 0s 989us/step - loss: 0.3212 - accuracy: 0.9122 - val_loss: 0.2797 - val_accuracy: 0.9040\n",
      "Epoch 28/100\n",
      "110/110 [==============================] - 0s 980us/step - loss: 0.3135 - accuracy: 0.9148 - val_loss: 0.2720 - val_accuracy: 0.9133\n",
      "Epoch 29/100\n",
      "110/110 [==============================] - 0s 979us/step - loss: 0.2983 - accuracy: 0.9157 - val_loss: 0.2814 - val_accuracy: 0.9060\n",
      "Epoch 30/100\n",
      "110/110 [==============================] - 0s 1ms/step - loss: 0.3035 - accuracy: 0.9134 - val_loss: 0.2941 - val_accuracy: 0.9020\n",
      "Epoch 31/100\n",
      "110/110 [==============================] - 0s 993us/step - loss: 0.3155 - accuracy: 0.9134 - val_loss: 0.2884 - val_accuracy: 0.9000\n",
      "Epoch 32/100\n",
      "110/110 [==============================] - 0s 989us/step - loss: 0.2937 - accuracy: 0.9185 - val_loss: 0.2730 - val_accuracy: 0.9140\n",
      "Epoch 33/100\n",
      "110/110 [==============================] - 0s 981us/step - loss: 0.2728 - accuracy: 0.9197 - val_loss: 0.2888 - val_accuracy: 0.9027\n",
      "Epoch 34/100\n",
      "110/110 [==============================] - 0s 1ms/step - loss: 0.2757 - accuracy: 0.9194 - val_loss: 0.3077 - val_accuracy: 0.8813\n",
      "Epoch 35/100\n",
      "110/110 [==============================] - 0s 977us/step - loss: 0.2795 - accuracy: 0.9225 - val_loss: 0.3130 - val_accuracy: 0.8907\n",
      "Epoch 36/100\n",
      "110/110 [==============================] - 0s 977us/step - loss: 0.2719 - accuracy: 0.9214 - val_loss: 0.2883 - val_accuracy: 0.9000\n",
      "Epoch 37/100\n",
      "110/110 [==============================] - 0s 985us/step - loss: 0.2884 - accuracy: 0.9154 - val_loss: 0.3231 - val_accuracy: 0.8947\n",
      "Epoch 38/100\n",
      "110/110 [==============================] - 0s 985us/step - loss: 0.2710 - accuracy: 0.9245 - val_loss: 0.2734 - val_accuracy: 0.9047\n",
      "Epoch 39/100\n",
      "110/110 [==============================] - 0s 980us/step - loss: 0.2568 - accuracy: 0.9288 - val_loss: 0.2984 - val_accuracy: 0.9040\n",
      "Epoch 40/100\n",
      "110/110 [==============================] - 0s 985us/step - loss: 0.2637 - accuracy: 0.9242 - val_loss: 0.3082 - val_accuracy: 0.8987\n",
      "Epoch 41/100\n",
      "110/110 [==============================] - 0s 972us/step - loss: 0.2892 - accuracy: 0.9174 - val_loss: 0.2868 - val_accuracy: 0.9053\n",
      "Epoch 42/100\n",
      "110/110 [==============================] - 0s 985us/step - loss: 0.2690 - accuracy: 0.9274 - val_loss: 0.2919 - val_accuracy: 0.9040\n",
      "Epoch 43/100\n",
      "110/110 [==============================] - 0s 982us/step - loss: 0.2547 - accuracy: 0.9240 - val_loss: 0.2970 - val_accuracy: 0.9080\n",
      "Epoch 44/100\n",
      "110/110 [==============================] - 0s 974us/step - loss: 0.2568 - accuracy: 0.9285 - val_loss: 0.3266 - val_accuracy: 0.8913\n",
      "Epoch 45/100\n",
      "110/110 [==============================] - 0s 981us/step - loss: 0.2891 - accuracy: 0.9217 - val_loss: 0.2911 - val_accuracy: 0.9113\n",
      "Epoch 46/100\n",
      "110/110 [==============================] - 0s 980us/step - loss: 0.2646 - accuracy: 0.9228 - val_loss: 0.3027 - val_accuracy: 0.9020\n",
      "Epoch 47/100\n",
      "110/110 [==============================] - 0s 983us/step - loss: 0.2683 - accuracy: 0.9197 - val_loss: 0.2821 - val_accuracy: 0.9053\n",
      "Epoch 48/100\n",
      "110/110 [==============================] - 0s 1ms/step - loss: 0.2413 - accuracy: 0.9300 - val_loss: 0.2794 - val_accuracy: 0.9100\n",
      "Epoch 49/100\n",
      "110/110 [==============================] - 0s 987us/step - loss: 0.2636 - accuracy: 0.9257 - val_loss: 0.3608 - val_accuracy: 0.8827\n",
      "Epoch 50/100\n",
      "110/110 [==============================] - 0s 976us/step - loss: 0.2672 - accuracy: 0.9200 - val_loss: 0.2824 - val_accuracy: 0.9107\n",
      "Epoch 51/100\n",
      "110/110 [==============================] - 0s 984us/step - loss: 0.2381 - accuracy: 0.9294 - val_loss: 0.2702 - val_accuracy: 0.9160\n",
      "Epoch 52/100\n",
      "110/110 [==============================] - 0s 980us/step - loss: 0.2456 - accuracy: 0.9291 - val_loss: 0.3167 - val_accuracy: 0.8967\n",
      "Epoch 53/100\n",
      "110/110 [==============================] - 0s 1ms/step - loss: 0.2314 - accuracy: 0.9297 - val_loss: 0.3038 - val_accuracy: 0.9027\n",
      "Epoch 54/100\n",
      "110/110 [==============================] - 0s 983us/step - loss: 0.2294 - accuracy: 0.9305 - val_loss: 0.2881 - val_accuracy: 0.9180\n",
      "Epoch 55/100\n",
      "110/110 [==============================] - 0s 967us/step - loss: 0.2309 - accuracy: 0.9305 - val_loss: 0.2975 - val_accuracy: 0.9153\n",
      "Epoch 56/100\n",
      "110/110 [==============================] - 0s 982us/step - loss: 0.2311 - accuracy: 0.9320 - val_loss: 0.2870 - val_accuracy: 0.9093\n",
      "Epoch 57/100\n",
      "110/110 [==============================] - 0s 987us/step - loss: 0.2196 - accuracy: 0.9351 - val_loss: 0.3004 - val_accuracy: 0.9047\n",
      "Epoch 58/100\n",
      "110/110 [==============================] - 0s 983us/step - loss: 0.2344 - accuracy: 0.9260 - val_loss: 0.2888 - val_accuracy: 0.9100\n",
      "Epoch 59/100\n",
      "110/110 [==============================] - 0s 979us/step - loss: 0.2260 - accuracy: 0.9297 - val_loss: 0.3021 - val_accuracy: 0.9173\n",
      "Epoch 60/100\n",
      "110/110 [==============================] - 0s 978us/step - loss: 0.2910 - accuracy: 0.9237 - val_loss: 0.2989 - val_accuracy: 0.9107\n",
      "Epoch 61/100\n",
      "110/110 [==============================] - 0s 979us/step - loss: 0.2316 - accuracy: 0.9314 - val_loss: 0.2798 - val_accuracy: 0.9140\n",
      "Epoch 62/100\n",
      "110/110 [==============================] - 0s 980us/step - loss: 0.2357 - accuracy: 0.9245 - val_loss: 0.4156 - val_accuracy: 0.8840\n",
      "Epoch 63/100\n",
      "110/110 [==============================] - 0s 980us/step - loss: 0.2314 - accuracy: 0.9365 - val_loss: 0.2801 - val_accuracy: 0.9160\n",
      "Epoch 64/100\n",
      "110/110 [==============================] - 0s 974us/step - loss: 0.2570 - accuracy: 0.9254 - val_loss: 0.2882 - val_accuracy: 0.9120\n",
      "Epoch 65/100\n",
      "110/110 [==============================] - 0s 1ms/step - loss: 0.2363 - accuracy: 0.9311 - val_loss: 0.2779 - val_accuracy: 0.9127\n",
      "Epoch 66/100\n",
      "110/110 [==============================] - 0s 976us/step - loss: 0.2147 - accuracy: 0.9328 - val_loss: 0.2863 - val_accuracy: 0.9167\n",
      "Epoch 67/100\n",
      "110/110 [==============================] - 0s 983us/step - loss: 0.2040 - accuracy: 0.9377 - val_loss: 0.2950 - val_accuracy: 0.9093\n",
      "Epoch 68/100\n",
      "110/110 [==============================] - 0s 977us/step - loss: 0.2294 - accuracy: 0.9365 - val_loss: 0.3088 - val_accuracy: 0.9013\n",
      "Epoch 69/100\n",
      "110/110 [==============================] - 0s 990us/step - loss: 0.2243 - accuracy: 0.9282 - val_loss: 0.2584 - val_accuracy: 0.9200\n",
      "Epoch 70/100\n",
      "110/110 [==============================] - 0s 981us/step - loss: 0.2107 - accuracy: 0.9325 - val_loss: 0.2600 - val_accuracy: 0.9207\n",
      "Epoch 71/100\n",
      "110/110 [==============================] - 0s 968us/step - loss: 0.2101 - accuracy: 0.9380 - val_loss: 0.2663 - val_accuracy: 0.9187\n",
      "Epoch 72/100\n",
      "110/110 [==============================] - 0s 967us/step - loss: 0.2060 - accuracy: 0.9414 - val_loss: 0.3124 - val_accuracy: 0.9033\n",
      "Epoch 73/100\n",
      "110/110 [==============================] - 0s 984us/step - loss: 0.2107 - accuracy: 0.9383 - val_loss: 0.2641 - val_accuracy: 0.9207\n",
      "Epoch 74/100\n",
      "110/110 [==============================] - 0s 981us/step - loss: 0.2143 - accuracy: 0.9368 - val_loss: 0.3738 - val_accuracy: 0.8913\n",
      "Epoch 75/100\n",
      "110/110 [==============================] - 0s 973us/step - loss: 0.2876 - accuracy: 0.9308 - val_loss: 0.3855 - val_accuracy: 0.8947\n",
      "Epoch 76/100\n",
      "110/110 [==============================] - 0s 987us/step - loss: 0.2209 - accuracy: 0.9311 - val_loss: 0.2826 - val_accuracy: 0.9133\n",
      "Epoch 77/100\n",
      "110/110 [==============================] - 0s 978us/step - loss: 0.2044 - accuracy: 0.9357 - val_loss: 0.2782 - val_accuracy: 0.9153\n",
      "Epoch 78/100\n",
      "110/110 [==============================] - 0s 1ms/step - loss: 0.1980 - accuracy: 0.9368 - val_loss: 0.2979 - val_accuracy: 0.9073\n",
      "Epoch 79/100\n",
      "110/110 [==============================] - 0s 989us/step - loss: 0.2050 - accuracy: 0.9380 - val_loss: 0.2784 - val_accuracy: 0.9180\n",
      "Epoch 80/100\n",
      "110/110 [==============================] - 0s 1ms/step - loss: 0.1873 - accuracy: 0.9440 - val_loss: 0.2810 - val_accuracy: 0.9200\n",
      "Epoch 81/100\n",
      "110/110 [==============================] - 0s 1ms/step - loss: 0.1952 - accuracy: 0.9414 - val_loss: 0.2863 - val_accuracy: 0.9047\n",
      "Epoch 82/100\n",
      "110/110 [==============================] - 0s 986us/step - loss: 0.1936 - accuracy: 0.9400 - val_loss: 0.2775 - val_accuracy: 0.9180\n",
      "Epoch 83/100\n",
      "110/110 [==============================] - 0s 980us/step - loss: 0.1968 - accuracy: 0.9388 - val_loss: 0.2680 - val_accuracy: 0.9247\n",
      "Epoch 84/100\n",
      "110/110 [==============================] - 0s 982us/step - loss: 0.1975 - accuracy: 0.9383 - val_loss: 0.2761 - val_accuracy: 0.9133\n",
      "Epoch 85/100\n",
      "110/110 [==============================] - 0s 998us/step - loss: 0.1894 - accuracy: 0.9417 - val_loss: 0.3319 - val_accuracy: 0.9093\n",
      "Epoch 86/100\n",
      "110/110 [==============================] - 0s 982us/step - loss: 0.2087 - accuracy: 0.9337 - val_loss: 0.2971 - val_accuracy: 0.9120\n",
      "Epoch 87/100\n",
      "110/110 [==============================] - 0s 986us/step - loss: 0.1963 - accuracy: 0.9425 - val_loss: 0.2705 - val_accuracy: 0.9180\n",
      "Epoch 88/100\n",
      "110/110 [==============================] - 0s 982us/step - loss: 0.1921 - accuracy: 0.9428 - val_loss: 0.3033 - val_accuracy: 0.9127\n",
      "Epoch 89/100\n",
      "110/110 [==============================] - 0s 1ms/step - loss: 0.1934 - accuracy: 0.9385 - val_loss: 0.2858 - val_accuracy: 0.9220\n",
      "Epoch 90/100\n",
      "110/110 [==============================] - 0s 983us/step - loss: 0.1798 - accuracy: 0.9454 - val_loss: 0.2832 - val_accuracy: 0.9220\n",
      "Epoch 91/100\n",
      "110/110 [==============================] - 0s 986us/step - loss: 0.2010 - accuracy: 0.9411 - val_loss: 0.2924 - val_accuracy: 0.9040\n",
      "Epoch 92/100\n",
      "110/110 [==============================] - 0s 986us/step - loss: 0.2076 - accuracy: 0.9383 - val_loss: 0.2873 - val_accuracy: 0.9147\n",
      "Epoch 93/100\n",
      "110/110 [==============================] - 0s 977us/step - loss: 0.1756 - accuracy: 0.9445 - val_loss: 0.2952 - val_accuracy: 0.9153\n",
      "Epoch 94/100\n",
      "110/110 [==============================] - 0s 981us/step - loss: 0.1857 - accuracy: 0.9440 - val_loss: 0.3613 - val_accuracy: 0.8887\n",
      "Epoch 95/100\n",
      "110/110 [==============================] - 0s 1ms/step - loss: 0.2243 - accuracy: 0.9322 - val_loss: 0.2918 - val_accuracy: 0.9147\n",
      "Epoch 96/100\n",
      "110/110 [==============================] - 0s 981us/step - loss: 0.2160 - accuracy: 0.9405 - val_loss: 0.2800 - val_accuracy: 0.9213\n",
      "Epoch 97/100\n",
      "110/110 [==============================] - 0s 977us/step - loss: 0.1975 - accuracy: 0.9405 - val_loss: 0.2924 - val_accuracy: 0.9107\n",
      "Epoch 98/100\n",
      "110/110 [==============================] - 0s 984us/step - loss: 0.1827 - accuracy: 0.9448 - val_loss: 0.3108 - val_accuracy: 0.9173\n",
      "Epoch 99/100\n",
      "110/110 [==============================] - 0s 1ms/step - loss: 0.1749 - accuracy: 0.9483 - val_loss: 0.2848 - val_accuracy: 0.9120\n",
      "Epoch 100/100\n",
      "110/110 [==============================] - 0s 975us/step - loss: 0.1797 - accuracy: 0.9463 - val_loss: 0.3335 - val_accuracy: 0.9080\n"
     ]
    }
   ],
   "source": [
    "# Train the model\n",
    "hist = model.fit(X_train, y_train, epochs=100, batch_size=32, validation_data=(X_val, y_val), class_weight=class_weights)"
   ]
  },
  {
   "cell_type": "markdown",
   "metadata": {},
   "source": [
    "Plot Train vs validation graph"
   ]
  },
  {
   "cell_type": "code",
   "execution_count": 85,
   "metadata": {},
   "outputs": [
    {
     "data": {
      "image/png": "[encoded data removed]",
      "text/plain": [
       "<Figure size 640x480 with 1 Axes>"
      ]
     },
     "metadata": {},
     "output_type": "display_data"
    }
   ],
   "source": [
    "plt.plot(hist.history['accuracy'])\n",
    "plt.plot(hist.history['val_accuracy'])\n",
    "plt.title(\"Accuracy\")\n",
    "plt.xlabel('Epoch')\n",
    "plt.ylabel('Accuracy')\n",
    "plt.legend(['Train', 'Val'])\n",
    "plt.show()"
   ]
  },
  {
   "cell_type": "code",
   "execution_count": 86,
   "metadata": {},
   "outputs": [
    {
     "data": {
      "text/plain": [
       "[<matplotlib.lines.Line2D at 0x17e9c2f70>]"
      ]
     },
     "execution_count": 86,
     "metadata": {},
     "output_type": "execute_result"
    },
    {
     "data": {
      "image/png": "[encoded data removed]",
      "text/plain": [
       "<Figure size 640x480 with 1 Axes>"
      ]
     },
     "metadata": {},
     "output_type": "display_data"
    }
   ],
   "source": [
    "plt.title('Loss')\n",
    "plt.xlabel('Epoch')\n",
    "plt.ylabel('Loss')\n",
    "plt.legend(['Train', 'Val'])\n",
    "plt.plot(hist.history['loss'])\n",
    "plt.plot(hist.history['val_loss'])"
   ]
  },
  {
   "cell_type": "code",
   "execution_count": 87,
   "metadata": {},
   "outputs": [
    {
     "name": "stdout",
     "output_type": "stream",
     "text": [
      "110/110 [==============================] - 0s 371us/step\n",
      "47/47 [==============================] - 0s 350us/step\n",
      "47/47 [==============================] - 0s 363us/step\n",
      "Classification report on train dataset: \n",
      "              precision    recall  f1-score   support\n",
      "\n",
      "           0       1.00      1.00      1.00      1848\n",
      "           1       0.99      0.93      0.96       412\n",
      "           2       0.77      0.88      0.82       452\n",
      "           3       0.88      0.73      0.80       459\n",
      "           4       0.99      0.96      0.97       277\n",
      "           5       0.54      0.98      0.70        50\n",
      "\n",
      "    accuracy                           0.94      3498\n",
      "   macro avg       0.86      0.91      0.87      3498\n",
      "weighted avg       0.95      0.94      0.94      3498\n",
      "\n",
      "Classification report on validation dataset: \n",
      "              precision    recall  f1-score   support\n",
      "\n",
      "           0       1.00      1.00      1.00       793\n",
      "           1       0.94      0.82      0.88       177\n",
      "           2       0.74      0.81      0.77       194\n",
      "           3       0.80      0.75      0.77       197\n",
      "           4       0.88      0.89      0.88       118\n",
      "           5       0.41      0.71      0.52        21\n",
      "\n",
      "    accuracy                           0.91      1500\n",
      "   macro avg       0.79      0.83      0.80      1500\n",
      "weighted avg       0.92      0.91      0.91      1500\n",
      "\n"
     ]
    }
   ],
   "source": [
    "y_pred_ann = classification_report_on_train_and_val(model, X_train, y_train, X_val, y_val, X_test, True)"
   ]
  }
 ],
 "metadata": {
  "kernelspec": {
   "display_name": "base",
   "language": "python",
   "name": "python3"
  },
  "language_info": {
   "codemirror_mode": {
    "name": "ipython",
    "version": 3
   },
   "file_extension": ".py",
   "mimetype": "text/x-python",
   "name": "python",
   "nbconvert_exporter": "python",
   "pygments_lexer": "ipython3",
   "version": "3.9.13"
  },
  "orig_nbformat": 4
 },
 "nbformat": 4,
 "nbformat_minor": 2
}
